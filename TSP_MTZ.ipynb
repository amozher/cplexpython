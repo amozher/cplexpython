{
  "nbformat": 4,
  "nbformat_minor": 0,
  "metadata": {
    "colab": {
      "name": "TSP-MTZ.ipynb",
      "provenance": [],
      "collapsed_sections": [],
      "authorship_tag": "ABX9TyOLHZETEY4SXvOn6RaHiw7n",
      "include_colab_link": true
    },
    "kernelspec": {
      "name": "python3",
      "display_name": "Python 3"
    },
    "language_info": {
      "name": "python"
    }
  },
  "cells": [
    {
      "cell_type": "markdown",
      "metadata": {
        "id": "view-in-github",
        "colab_type": "text"
      },
      "source": [
        "<a href=\"https://colab.research.google.com/github/amozher/cplexpython/blob/main/TSP_MTZ.ipynb\" target=\"_parent\"><img src=\"https://colab.research.google.com/assets/colab-badge.svg\" alt=\"Open In Colab\"/></a>"
      ]
    },
    {
      "cell_type": "markdown",
      "source": [
        "##Install"
      ],
      "metadata": {
        "id": "1ogCJ4SdPCci"
      }
    },
    {
      "cell_type": "code",
      "execution_count": 1,
      "metadata": {
        "colab": {
          "base_uri": "https://localhost:8080/"
        },
        "id": "i3d1XLMoPA6i",
        "outputId": "47711a20-4737-41a9-9e0d-5bd73fbe609e"
      },
      "outputs": [
        {
          "output_type": "stream",
          "name": "stdout",
          "text": [
            "Requirement already satisfied: cplex in /usr/local/lib/python3.7/dist-packages (22.1.0.0)\n",
            "Requirement already satisfied: docplex in /usr/local/lib/python3.7/dist-packages (2.23.222)\n",
            "Requirement already satisfied: six in /usr/local/lib/python3.7/dist-packages (from docplex) (1.15.0)\n"
          ]
        }
      ],
      "source": [
        "!pip install cplex\n",
        "!pip install docplex"
      ]
    },
    {
      "cell_type": "markdown",
      "source": [
        "## Import"
      ],
      "metadata": {
        "id": "vJbM1xh9Jz-z"
      }
    },
    {
      "cell_type": "code",
      "source": [
        "import numpy as np\n",
        "from docplex.mp.model import Model \n"
      ],
      "metadata": {
        "id": "eJ1qeAgCPhm5"
      },
      "execution_count": 2,
      "outputs": []
    },
    {
      "cell_type": "markdown",
      "source": [
        "## Constante parameters"
      ],
      "metadata": {
        "id": "eEY4-K-QJ8yL"
      }
    },
    {
      "cell_type": "code",
      "source": [
        "# Nombre de Nodes\n",
        "nbVilles = 20\n",
        "# Index: Range ville\n",
        "villes=range(nbVilles)\n",
        "# Cout entre node i et node  j.\n",
        "cij=np.random.rand(nbVilles,nbVilles)"
      ],
      "metadata": {
        "id": "d-m1pELCJ9PQ"
      },
      "execution_count": 3,
      "outputs": []
    },
    {
      "cell_type": "code",
      "source": [
        "#Définition du mdel\n",
        "model=Model('TSP')"
      ],
      "metadata": {
        "id": "qRnJL1tRPuNv"
      },
      "execution_count": 4,
      "outputs": []
    },
    {
      "cell_type": "markdown",
      "source": [
        "## Variable de décision"
      ],
      "metadata": {
        "id": "I_gNZAu6Osve"
      }
    },
    {
      "cell_type": "code",
      "source": [
        "## Variable xij\n",
        "x=model.binary_var_matrix(keys1=villes,keys2=villes,name='x')\n",
        "## Varible ui\n",
        "u=model.integer_var_list(keys=villes, lb=0, ub=nbVilles,name='u')"
      ],
      "metadata": {
        "id": "Wt0O5HkvQBm4"
      },
      "execution_count": 5,
      "outputs": []
    },
    {
      "cell_type": "markdown",
      "source": [
        "## Fonction Objective"
      ],
      "metadata": {
        "id": "DtLTvGVdPMiN"
      }
    },
    {
      "cell_type": "code",
      "source": [
        "model.minimize(model.sum(cij[i,j] * x[i,j] for i in villes for j in villes))"
      ],
      "metadata": {
        "id": "KOEG3PttQuMH"
      },
      "execution_count": 6,
      "outputs": []
    },
    {
      "cell_type": "code",
      "source": [
        "for i in villes:\n",
        "    model.add_constraint(model.sum(x[i , j] for j in villes)==1)\n",
        "    model.add_constraint(model.sum(x[j , i] for j in villes)==1)\n",
        "\n",
        "for i in villes:\n",
        "    for j in villes:\n",
        "        if j != 0:\n",
        "            model.add_constraint(u[i]-u[j]+nbVilles * x[i,j]<=nbVilles-1)\n",
        "    "
      ],
      "metadata": {
        "id": "ms7DK2m7FQ9r"
      },
      "execution_count": 7,
      "outputs": []
    },
    {
      "cell_type": "markdown",
      "source": [
        "## Solve"
      ],
      "metadata": {
        "id": "G8sKDuPzPkp-"
      }
    },
    {
      "cell_type": "code",
      "source": [
        "solution = model.solve(log_output=True)"
      ],
      "metadata": {
        "colab": {
          "base_uri": "https://localhost:8080/"
        },
        "id": "xlG9AV9XFU1d",
        "outputId": "e1df6d87-f652-4cb7-bf9a-91ec40e55e12"
      },
      "execution_count": 8,
      "outputs": [
        {
          "output_type": "stream",
          "name": "stdout",
          "text": [
            "Version identifier: 22.1.0.0 | 2022-03-25 | 54982fbec\n",
            "CPXPARAM_Read_DataCheck                          1\n",
            "Tried aggregator 1 time.\n",
            "MIP Presolve eliminated 19 rows and 20 columns.\n",
            "MIP Presolve modified 38 coefficients.\n",
            "Reduced MIP has 401 rows, 400 columns, and 1826 nonzeros.\n",
            "Reduced MIP has 381 binaries, 19 generals, 0 SOSs, and 0 indicators.\n",
            "Presolve time = 0.02 sec. (1.20 ticks)\n",
            "Probing time = 0.01 sec. (1.51 ticks)\n",
            "Cover probing fixed 0 vars, tightened 19 bounds.\n",
            "Tried aggregator 1 time.\n",
            "Detecting symmetries...\n",
            "MIP Presolve eliminated 19 rows and 0 columns.\n",
            "Reduced MIP has 382 rows, 400 columns, and 1788 nonzeros.\n",
            "Reduced MIP has 381 binaries, 19 generals, 0 SOSs, and 0 indicators.\n",
            "Presolve time = 0.01 sec. (1.38 ticks)\n",
            "Probing time = 0.01 sec. (1.62 ticks)\n",
            "Clique table members: 211.\n",
            "MIP emphasis: balance optimality and feasibility.\n",
            "MIP search method: dynamic search.\n",
            "Parallel mode: deterministic, using up to 2 threads.\n",
            "Root relaxation solution time = 0.00 sec. (0.83 ticks)\n",
            "\n",
            "        Nodes                                         Cuts/\n",
            "   Node  Left     Objective  IInf  Best Integer    Best Bound    ItCnt     Gap\n",
            "\n",
            "*     0+    0                            9.9575        0.0000           100.00%\n",
            "      0     0        1.2325    29        9.9575        1.2325       62   87.62%\n",
            "*     0     0      integral     0        1.3909      Cuts: 28       96    0.00%\n",
            "      0     0        cutoff              1.3909        1.3909       96    0.00%\n",
            "Elapsed time = 0.15 sec. (15.22 ticks, tree = 0.01 MB, solutions = 2)\n",
            "\n",
            "Clique cuts applied:  2\n",
            "\n",
            "Root node processing (before b&c):\n",
            "  Real time             =    0.16 sec. (15.24 ticks)\n",
            "Parallel b&c, 2 threads:\n",
            "  Real time             =    0.00 sec. (0.00 ticks)\n",
            "  Sync time (average)   =    0.00 sec.\n",
            "  Wait time (average)   =    0.00 sec.\n",
            "                          ------------\n",
            "Total (root+branch&cut) =    0.16 sec. (15.24 ticks)\n"
          ]
        }
      ]
    },
    {
      "cell_type": "markdown",
      "source": [
        "## Affichage"
      ],
      "metadata": {
        "id": "RvW6hG7EPvPJ"
      }
    },
    {
      "cell_type": "code",
      "source": [
        "solution.display()"
      ],
      "metadata": {
        "colab": {
          "base_uri": "https://localhost:8080/"
        },
        "id": "A1Kc1qwDGRd4",
        "outputId": "b3052c79-96f5-4150-9e75-ba8fe0b113c1"
      },
      "execution_count": 9,
      "outputs": [
        {
          "output_type": "stream",
          "name": "stdout",
          "text": [
            "solution for: TSP\n",
            "objective: 1.391\n",
            "x_0_13 = 1\n",
            "x_1_6 = 1\n",
            "x_2_3 = 1\n",
            "x_3_11 = 1\n",
            "x_4_14 = 1\n",
            "x_5_0 = 1\n",
            "x_6_2 = 1\n",
            "x_7_16 = 1\n",
            "x_8_9 = 1\n",
            "x_9_18 = 1\n",
            "x_10_4 = 1\n",
            "x_11_17 = 1\n",
            "x_12_8 = 1\n",
            "x_13_7 = 1\n",
            "x_14_15 = 1\n",
            "x_15_5 = 1\n",
            "x_16_19 = 1\n",
            "x_17_12 = 1\n",
            "x_18_10 = 1\n",
            "x_19_1 = 1\n",
            "u_1 = 5\n",
            "u_2 = 7\n",
            "u_3 = 8\n",
            "u_4 = 16\n",
            "u_5 = 19\n",
            "u_6 = 6\n",
            "u_7 = 2\n",
            "u_8 = 12\n",
            "u_9 = 13\n",
            "u_10 = 15\n",
            "u_11 = 9\n",
            "u_12 = 11\n",
            "u_13 = 1\n",
            "u_14 = 17\n",
            "u_15 = 18\n",
            "u_16 = 3\n",
            "u_17 = 10\n",
            "u_18 = 14\n",
            "u_19 = 4\n"
          ]
        }
      ]
    },
    {
      "cell_type": "code",
      "source": [
        "solution.get_objective_value()\n"
      ],
      "metadata": {
        "colab": {
          "base_uri": "https://localhost:8080/"
        },
        "id": "_zkcg_eWFYhH",
        "outputId": "7760a52c-c8e0-4322-9c1a-5393149bc72d"
      },
      "execution_count": 10,
      "outputs": [
        {
          "output_type": "execute_result",
          "data": {
            "text/plain": [
              "1.390940844812425"
            ]
          },
          "metadata": {},
          "execution_count": 10
        }
      ]
    },
    {
      "cell_type": "code",
      "source": [
        "a=0;\n",
        "for  b in villes :\n",
        "  for  c in villes : \n",
        "    if solution.get_value(x[a , c])>0  :\n",
        "      print(\", (order \"+(str(u[a]))+ \": \" + str(solution.get_value(u[a]))+ \" node: x_\"+str(a)+\")\", end=\"=>\")\n",
        "      a=c \n",
        "      if(a==0):\n",
        "        b=nbVilles\n",
        "        break\n"
      ],
      "metadata": {
        "id": "nWcUIaStHvGy",
        "colab": {
          "base_uri": "https://localhost:8080/"
        },
        "outputId": "c1d0f476-b20b-4c7a-aabc-5c33350cf5a4"
      },
      "execution_count": 28,
      "outputs": [
        {
          "output_type": "stream",
          "name": "stdout",
          "text": [
            ", (order u_0: 0 node: x_0)=>, (order u_13: 1.0 node: x_13)=>, (order u_7: 2.0 node: x_7)=>, (order u_16: 3.0 node: x_16)=>, (order u_19: 4.0 node: x_19)=>, (order u_1: 5.0 node: x_1)=>, (order u_6: 6.0 node: x_6)=>, (order u_2: 7.0 node: x_2)=>, (order u_3: 8.0 node: x_3)=>, (order u_11: 9.0 node: x_11)=>, (order u_17: 10.0 node: x_17)=>, (order u_12: 11.0 node: x_12)=>, (order u_8: 12.0 node: x_8)=>, (order u_9: 13.0 node: x_9)=>, (order u_18: 14.0 node: x_18)=>, (order u_10: 15.0 node: x_10)=>, (order u_4: 16.0 node: x_4)=>, (order u_14: 17.0 node: x_14)=>, (order u_15: 18.0 node: x_15)=>, (order u_5: 19.0 node: x_5)=>, (order u_0: 0 node: x_0)=>, (order u_13: 1.0 node: x_13)=>, (order u_7: 2.0 node: x_7)=>, (order u_16: 3.0 node: x_16)=>, (order u_19: 4.0 node: x_19)=>, (order u_1: 5.0 node: x_1)=>, (order u_6: 6.0 node: x_6)=>, (order u_2: 7.0 node: x_2)=>, (order u_3: 8.0 node: x_3)=>, (order u_11: 9.0 node: x_11)=>, (order u_17: 10.0 node: x_17)=>, (order u_12: 11.0 node: x_12)=>, (order u_8: 12.0 node: x_8)=>, (order u_9: 13.0 node: x_9)=>, (order u_18: 14.0 node: x_18)=>, (order u_10: 15.0 node: x_10)=>, (order u_4: 16.0 node: x_4)=>, (order u_14: 17.0 node: x_14)=>, (order u_15: 18.0 node: x_15)=>, (order u_5: 19.0 node: x_5)=>"
          ]
        }
      ]
    },
    {
      "cell_type": "code",
      "source": [
        ""
      ],
      "metadata": {
        "id": "e0TqFHrqmA4e"
      },
      "execution_count": null,
      "outputs": []
    }
  ]
}